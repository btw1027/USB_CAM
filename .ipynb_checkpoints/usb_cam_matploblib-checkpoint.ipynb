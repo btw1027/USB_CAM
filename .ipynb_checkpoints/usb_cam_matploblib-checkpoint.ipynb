{
 "cells": [
  {
   "cell_type": "code",
   "execution_count": 1,
   "metadata": {},
   "outputs": [],
   "source": [
    "import matplotlib\n",
    "\n",
    "matplotlib.use('TkAgg') #crashes when using %matplotlib qt"
   ]
  },
  {
   "cell_type": "code",
   "execution_count": null,
   "metadata": {},
   "outputs": [],
   "source": []
  },
  {
   "cell_type": "code",
   "execution_count": 2,
   "metadata": {},
   "outputs": [],
   "source": [
    "import numpy\n",
    "from matplotlib import pyplot as plt\n",
    "import PySpin\n",
    "from datetime import datetime\n",
    "import os\n",
    "import math"
   ]
  },
  {
   "cell_type": "code",
   "execution_count": 3,
   "metadata": {},
   "outputs": [],
   "source": [
    "def list_object_parameters(obj):\n",
    "    import inspect\n",
    "    return [a[0] for a in inspect.getmembers(obj)]\n",
    "\n",
    "def is_param_in_object(param, obj):\n",
    "    import inspect\n",
    "    params = [a[0] for a in inspect.getmembers(obj)]\n",
    "    return param in params\n",
    "\n",
    "def set_custom_cam_settings(cam, **kwargs):\n",
    "    params = list_object_parameters(cam)\n",
    "    try:\n",
    "        result = True\n",
    "        for k, v in kwargs.items():\n",
    "            if (k in params) and (getattr(cam,k).GetAccessMode() == PySpin.RW):\n",
    "                if k == 'Width':\n",
    "                    getattr(cam, k).SetValue(v)\n",
    "                    print('Setting', k, '=', v)\n",
    "                    cam.OffsetX.SetValue(int((5472-v)/2))\n",
    "                    print('Setting OffsetX =', (5472-v)/2)\n",
    "                elif k == 'Height':\n",
    "                    getattr(cam, k).SetValue(v)\n",
    "                    print('Setting', k, '=', v)\n",
    "                    cam.OffsetY.SetValue(int((3648-v)/2))\n",
    "                    print('Setting OffsetY =', (3648-v)/2)\n",
    "                else: \n",
    "                    getattr(cam, k).SetValue(v)\n",
    "                    print('Setting', k, '=', v)\n",
    "            else:\n",
    "                print(k, 'is not a parameter of this object or not accessible')\n",
    "                result = False\n",
    "    except PySpin.SpinnakerException as ex:\n",
    "        print('Error: %s' % ex)\n",
    "    return result\n",
    "\n",
    "def acquire_images(cam, num_images):\n",
    "    try:\n",
    "        result = True\n",
    "        # Set acquisition mode to continuous\n",
    "        if cam.AcquisitionMode.GetAccessMode() != PySpin.RW:\n",
    "            print('Unable to set acquisition mode to continuous. Aborting...')\n",
    "            return False\n",
    "        cam.AcquisitionMode.SetValue(PySpin.AcquisitionMode_Continuous)\n",
    "        # Begin acquiring images\n",
    "        cam.BeginAcquisition()\n",
    "        print('Acquiring images...')\n",
    "        \n",
    "        for i in range(num_images):\n",
    "            try:\n",
    "                # Retrieve next received image and ensure image completion\n",
    "                image_result = cam.GetNextImage()\n",
    "                if image_result.IsIncomplete():\n",
    "                    print('Image incomplete with image status %d...' % image_result.GetImageStatus())\n",
    "                else:\n",
    "                    image = image_result.GetNDArray()\n",
    "#                     fig, current_ax = plt.subplots(figsize=(10,10))                \n",
    "                    plt.imshow(image, cmap='gray')\n",
    "                    plt.show()\n",
    "#                     ld = LineDrawer()\n",
    "#                     ld.draw_line() # here you click on the plot\n",
    "#                     plt.draw()\n",
    "\n",
    "                # Release image\n",
    "                image_result.Release()\n",
    "            except PySpin.SpinnakerException as ex:\n",
    "                print('Error: %s' % ex)\n",
    "                result = False\n",
    "        # End acquisition\n",
    "        cam.EndAcquisition()\n",
    "\n",
    "    except PySpin.SpinnakerException as ex:\n",
    "        print('Error: %s' % ex)\n",
    "        result = False\n",
    "\n",
    "    return result\n",
    "\n",
    "def run_cam(params, num_images=1):\n",
    "    result = True\n",
    "    # Get system\n",
    "    system = PySpin.System.GetInstance()\n",
    "    # Get camera list\n",
    "    cam_list = system.GetCameras()\n",
    "    num_cameras = cam_list.GetSize()\n",
    "    print('Number of cameras detected: %d' % num_cameras)\n",
    "    # Finish if there are no cameras\n",
    "    if num_cameras == 0:\n",
    "        # Clear camera list before releasing system\n",
    "        cam_list.Clear()\n",
    "        # Release system instance\n",
    "        system.ReleaseInstance()\n",
    "        print('Not enough cameras!')\n",
    "        return False\n",
    "    \n",
    "    cam = cam_list.GetByIndex(0)\n",
    "    try: \n",
    "        # Initialize camera\n",
    "        cam.Init()\n",
    "        # Configure camera settings\n",
    "        set_custom_cam_settings(cam, **params)\n",
    "        # Acquire images\n",
    "        result &= acquire_images(cam, num_images)\n",
    "        \n",
    "        set_custom_cam_settings(cam, ExposureAuto=True, GainAuto=True)\n",
    "        # Deinitialize camera\n",
    "        cam.DeInit()\n",
    "        return result\n",
    "\n",
    "    except PySpin.SpinnakerException as ex:\n",
    "        print('Error: %s' % ex)\n",
    "        return False\n",
    "    \n",
    "    del cam\n",
    "    cam_list.Clear()\n",
    "    system.ReleaseInstance()\n",
    "    return result\n",
    "\n",
    "# class LineDrawer(object):\n",
    "#     lines = []\n",
    "#     def draw_line(self):\n",
    "#         ax = plt.gca()\n",
    "# #         xy = plt.ginput(2)        \n",
    "# #         x = [p[0] for p in xy]\n",
    "# #         y = [p[1] for p in xy]\n",
    "# #         line = plt.plot(x,y)\n",
    "# #         ax.figure.canvas.draw()\n",
    "# #         self.lines.append(line)\n",
    "# #         distance = math.sqrt((x[1] - x[0])**2 + (y[1] - y[0])**2)\n",
    "# #         distance_s = '%4.3f' % distance\n",
    "# # #         bbox_props = dict(boxstyle=\"round,pad=0.3\", ec=\"b\", lw=2)\n",
    "# # #         t = ax.text(0, 0, 'The distance is '+distance_s+' px', ha=\"center\", va=\"center\", size=15,bbox=bbox_props)\n",
    "# # #         ax.annotate('The distance is '+distance_s+' px', (0,0), horizontalalignment='right', verticalalignment='top')\n",
    "# #         print('The distance in pixels is %4.3f' % distance)"
   ]
  },
  {
   "cell_type": "code",
   "execution_count": 4,
   "metadata": {},
   "outputs": [],
   "source": [
    "#max width = 5472\n",
    "#max height = 3648\n",
    "\n",
    "params = {\n",
    "    'Width': 912,\n",
    "    'Height': 1824,\n",
    "    'AcquisitionFrameRateEnable': True,\n",
    "    'AcquisitionFrameRate': 3,\n",
    "    'ExposureAuto': False,\n",
    "    'ExposureTime': 15000,\n",
    "    'GainAuto': False,\n",
    "    'Gain': 6.29\n",
    "}"
   ]
  },
  {
   "cell_type": "code",
   "execution_count": null,
   "metadata": {},
   "outputs": [
    {
     "name": "stdout",
     "output_type": "stream",
     "text": [
      "Number of cameras detected: 1\n",
      "Setting Width = 912\n",
      "Setting OffsetX = 2280.0\n",
      "Setting Height = 1824\n",
      "Setting OffsetY = 912.0\n",
      "Setting AcquisitionFrameRateEnable = True\n",
      "Setting AcquisitionFrameRate = 3\n",
      "Setting ExposureAuto = False\n",
      "Setting ExposureTime = 15000\n",
      "Setting GainAuto = False\n",
      "Setting Gain = 6.29\n",
      "Acquiring images...\n"
     ]
    }
   ],
   "source": [
    "run_cam(params, 1)"
   ]
  },
  {
   "cell_type": "code",
   "execution_count": null,
   "metadata": {},
   "outputs": [],
   "source": []
  },
  {
   "cell_type": "code",
   "execution_count": null,
   "metadata": {},
   "outputs": [],
   "source": []
  },
  {
   "cell_type": "code",
   "execution_count": null,
   "metadata": {},
   "outputs": [],
   "source": []
  },
  {
   "cell_type": "code",
   "execution_count": null,
   "metadata": {},
   "outputs": [],
   "source": []
  },
  {
   "cell_type": "code",
   "execution_count": null,
   "metadata": {},
   "outputs": [],
   "source": [
    "class LineDrawer(object):\n",
    "    lines = []\n",
    "    def draw_line(self):\n",
    "        ax = plt.gca()\n",
    "        xy = plt.ginput(2)        \n",
    "#         x = [p[0] for p in xy]\n",
    "#         y = [p[1] for p in xy]\n",
    "#         line = plt.plot(x,y)\n",
    "#         ax.figure.canvas.draw()\n",
    "#         self.lines.append(line)\n",
    "#         distance = math.sqrt((x[1] - x[0])**2 + (y[1] - y[0])**2)\n",
    "#         distance_s = '%4.3f' % distance\n",
    "#         bbox_props = dict(boxstyle=\"round,pad=0.3\", ec=\"b\", lw=2)\n",
    "#         t = ax.text(0, 0, 'The distance is '+distance_s+' px', ha=\"center\", va=\"center\", size=15,bbox=bbox_props)\n",
    "# #         ax.annotate('The distance is '+distance_s+' px', (0,0), horizontalalignment='right', verticalalignment='top')\n",
    "#         print('The distance in pixels is %4.3f' % distance)\n",
    "fig, current_ax = plt.subplots(figsize=(10,10))             \n",
    "ld = LineDrawer()\n",
    "ld.draw_line() # here you click on the plot"
   ]
  },
  {
   "cell_type": "code",
   "execution_count": null,
   "metadata": {},
   "outputs": [],
   "source": [
    "fig, current_ax = plt.subplots(figsize=(10,10))             \n",
    "ld = LineDrawer()\n",
    "ld.draw_line() # here you click on the plot"
   ]
  },
  {
   "cell_type": "code",
   "execution_count": null,
   "metadata": {},
   "outputs": [],
   "source": []
  },
  {
   "cell_type": "code",
   "execution_count": null,
   "metadata": {},
   "outputs": [],
   "source": []
  },
  {
   "cell_type": "code",
   "execution_count": null,
   "metadata": {},
   "outputs": [],
   "source": []
  },
  {
   "cell_type": "code",
   "execution_count": null,
   "metadata": {},
   "outputs": [],
   "source": []
  },
  {
   "cell_type": "code",
   "execution_count": null,
   "metadata": {},
   "outputs": [],
   "source": []
  },
  {
   "cell_type": "code",
   "execution_count": null,
   "metadata": {},
   "outputs": [],
   "source": []
  },
  {
   "cell_type": "code",
   "execution_count": null,
   "metadata": {},
   "outputs": [],
   "source": []
  },
  {
   "cell_type": "code",
   "execution_count": null,
   "metadata": {},
   "outputs": [],
   "source": [
    "if cam.Width.GetAccessMode() == PySpin.RW and cam.Width.GetInc() != 0 and cam.Width.GetMax != 0:\n",
    "    cam.Width.SetValue(912)\n",
    "else:\n",
    "    print('Width not available...')\n",
    "    result = False"
   ]
  },
  {
   "cell_type": "code",
   "execution_count": null,
   "metadata": {},
   "outputs": [],
   "source": [
    "system = PySpin.System.GetInstance()\n",
    "# Get camera list\n",
    "cam_list = system.GetCameras()\n",
    "num_cameras = cam_list.GetSize()\n",
    "\n",
    "print('Number of cameras detected: %d' % num_cameras)\n",
    "# Finish if there are no cameras\n",
    "if num_cameras == 0:\n",
    "    # Clear camera list before releasing system\n",
    "    cam_list.Clear()\n",
    "\n",
    "    # Release system instance\n",
    "    system.ReleaseInstance()\n",
    "\n",
    "    print('Not enough cameras!')\n",
    "    input('Done! Press Enter to exit...')\n",
    "\n",
    "\n",
    "cam = cam_list.GetByIndex(0)\n",
    "cam.Init()"
   ]
  },
  {
   "cell_type": "code",
   "execution_count": null,
   "metadata": {},
   "outputs": [],
   "source": [
    "cam.Width()"
   ]
  },
  {
   "cell_type": "code",
   "execution_count": null,
   "metadata": {},
   "outputs": [],
   "source": [
    "??cam.AcquisitionStop()"
   ]
  },
  {
   "cell_type": "code",
   "execution_count": null,
   "metadata": {},
   "outputs": [],
   "source": [
    "list_object_parameters(cam)"
   ]
  },
  {
   "cell_type": "code",
   "execution_count": null,
   "metadata": {},
   "outputs": [],
   "source": []
  }
 ],
 "metadata": {
  "kernelspec": {
   "display_name": "FLIR USB Cam",
   "language": "python",
   "name": "usb_cam"
  },
  "language_info": {
   "codemirror_mode": {
    "name": "ipython",
    "version": 3
   },
   "file_extension": ".py",
   "mimetype": "text/x-python",
   "name": "python",
   "nbconvert_exporter": "python",
   "pygments_lexer": "ipython3",
   "version": "3.6.8"
  }
 },
 "nbformat": 4,
 "nbformat_minor": 2
}
