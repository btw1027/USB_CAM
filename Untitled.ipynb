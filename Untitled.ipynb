{
 "cells": [
  {
   "cell_type": "code",
   "execution_count": 1,
   "metadata": {},
   "outputs": [],
   "source": [
    "import yaml"
   ]
  },
  {
   "cell_type": "code",
   "execution_count": 2,
   "metadata": {},
   "outputs": [],
   "source": [
    "import os"
   ]
  },
  {
   "cell_type": "code",
   "execution_count": 5,
   "metadata": {},
   "outputs": [
    {
     "data": {
      "text/plain": [
       "'C:\\\\Users\\\\bwilks\\\\Documents\\\\usb_cam\\\\USB_CAM\\\\primary.yaml'"
      ]
     },
     "execution_count": 5,
     "metadata": {},
     "output_type": "execute_result"
    }
   ],
   "source": []
  },
  {
   "cell_type": "code",
   "execution_count": 6,
   "metadata": {},
   "outputs": [],
   "source": [
    "with open(os.path.abspath(os.listdir()[3]), 'rb') as file:\n",
    "    cam_dict = yaml.load(file)"
   ]
  },
  {
   "cell_type": "code",
   "execution_count": 9,
   "metadata": {},
   "outputs": [],
   "source": [
    "node_cmd_list = cam_dict['init']"
   ]
  },
  {
   "cell_type": "code",
   "execution_count": 24,
   "metadata": {},
   "outputs": [
    {
     "name": "stdout",
     "output_type": "stream",
     "text": [
      "UserSetSelector {'value': 'PySpin.UserSetDefault_Default', 'access': 'RW'}\n"
     ]
    }
   ],
   "source": [
    "for k,v in node_cmd_list[0].items():\n",
    "    print(k,v)"
   ]
  },
  {
   "cell_type": "code",
   "execution_count": 29,
   "metadata": {},
   "outputs": [
    {
     "name": "stdout",
     "output_type": "stream",
     "text": [
      "attr: UserSetSelector\n",
      "method: SetValue\n",
      "mode: RW\n",
      "arg: PySpin.UserSetDefault_Default\n",
      "attr: UserSetLoad\n",
      "method: Execute\n",
      "mode: RW\n",
      "arg: None\n",
      "attr: LineSelector\n",
      "method: SetValue\n",
      "mode: RW\n",
      "arg: PySpin.LineSelector_Line2\n",
      "attr: V3_3Enable\n",
      "method: SetValue\n",
      "mode: RW\n",
      "arg: True\n",
      "attr: Width\n",
      "method: SetValue\n",
      "mode: RW\n",
      "arg: 912\n",
      "attr: Height\n",
      "method: SetValue\n",
      "mode: RW\n",
      "arg: 1824\n",
      "attr: AcquisitionFrameRateEnable\n",
      "method: SetValue\n",
      "mode: RW\n",
      "arg: True\n",
      "attr: AcquisitionFrameRate\n",
      "method: SetValue\n",
      "mode: RW\n",
      "arg: 3\n",
      "attr: ExposureMode\n",
      "method: SetValue\n",
      "mode: RW\n",
      "arg: PySpin.ExposureMode_Timed\n",
      "attr: ExposureAuto\n",
      "method: SetValue\n",
      "mode: RW\n",
      "arg: PySpin.ExposureAuto_Off\n",
      "attr: ExposureTime\n",
      "method: SetValue\n",
      "mode: RW\n",
      "arg: 15000\n",
      "attr: GainSelector\n",
      "method: SetValue\n",
      "mode: RW\n",
      "arg: PySpin.GainSelector_All\n",
      "attr: GainAuto\n",
      "method: SetValue\n",
      "mode: RW\n",
      "arg: PySpin.GainAuto_Off\n",
      "attr: Gain\n",
      "method: SetValue\n",
      "mode: RW\n",
      "arg: 6.22\n",
      "attr: BlackLevelSelector\n",
      "method: SetValue\n",
      "mode: RW\n",
      "arg: PySpin.BlackLevelSelector_All\n",
      "attr: BlackLevel\n",
      "method: SetValue\n",
      "mode: RW\n",
      "arg: 0\n",
      "attr: GammaEnable\n",
      "method: SetValue\n",
      "mode: RW\n",
      "arg: False\n",
      "attr: PixelFormat\n",
      "method: SetValue\n",
      "mode: RW\n",
      "arg: PySpin.PixelFormat_Mono16\n",
      "attr: AdcBitDepth\n",
      "method: SetValue\n",
      "mode: RW\n",
      "arg: PySpin.AdcBitDepth_Bit12\n",
      "attr: OffsetX\n",
      "method: SetValue\n",
      "mode: RW\n",
      "arg: 0\n",
      "attr: OffsetY\n",
      "method: SetValue\n",
      "mode: RW\n",
      "arg: 0\n"
     ]
    }
   ],
   "source": [
    "for node_cmd in node_cmd_list:\n",
    "            # Get camera attribute string\n",
    "            if isinstance(node_cmd, dict):\n",
    "                cam_attr_str = list(node_cmd.keys())\n",
    "                if len(cam_attr_str) == 1:\n",
    "                    cam_attr_str = cam_attr_str[0]\n",
    "\n",
    "                    # Get optional method attributes\n",
    "                    cam_method_arg = None\n",
    "                    pyspin_mode_str = None\n",
    "\n",
    "                    cam_method_attributes = node_cmd[cam_attr_str]\n",
    "                    if isinstance(cam_method_attributes, dict):\n",
    "                        # Get method argument\n",
    "                        if 'value' in cam_method_attributes:\n",
    "                            cam_method_arg = cam_method_attributes['value']\n",
    "\n",
    "                        # Get access mode\n",
    "                        if 'access' in cam_method_attributes:\n",
    "                            pyspin_mode_str = cam_method_attributes['access']\n",
    "\n",
    "                    # NOTE: I believe there should only be SetValue()'s and Execute()'s for\n",
    "                    # initialization of camera. If this is not the case, then the method will\n",
    "                    # need to be added to the yaml file.\n",
    "\n",
    "                    # Get method\n",
    "                    if cam_method_arg is not None:\n",
    "                        # Assume this is a SetValue()\n",
    "                        cam_method_str = 'SetValue'\n",
    "                    else:\n",
    "                        # Assume this is an Execute()\n",
    "                        cam_method_str = 'Execute'\n",
    "                    \n",
    "                    print('attr:',cam_attr_str)\n",
    "                    print('method:',cam_method_str)\n",
    "                    print('mode:',pyspin_mode_str)\n",
    "                    print('arg:',cam_method_arg)\n",
    "\n",
    "                else:\n",
    "                    raise RuntimeError('Only one camera attribute per \"tick\" is supported. '\n",
    "                                       'Please fix: ' + str(cam_attr_str))"
   ]
  },
  {
   "cell_type": "code",
   "execution_count": 26,
   "metadata": {},
   "outputs": [
    {
     "data": {
      "text/plain": [
       "{'value': 0, 'access': 'RW'}"
      ]
     },
     "execution_count": 26,
     "metadata": {},
     "output_type": "execute_result"
    }
   ],
   "source": [
    "cam_method_attributes"
   ]
  },
  {
   "cell_type": "code",
   "execution_count": null,
   "metadata": {},
   "outputs": [],
   "source": []
  }
 ],
 "metadata": {
  "kernelspec": {
   "display_name": "USB Cam",
   "language": "python",
   "name": "usb_cam"
  },
  "language_info": {
   "codemirror_mode": {
    "name": "ipython",
    "version": 3
   },
   "file_extension": ".py",
   "mimetype": "text/x-python",
   "name": "python",
   "nbconvert_exporter": "python",
   "pygments_lexer": "ipython3",
   "version": "3.6.8"
  }
 },
 "nbformat": 4,
 "nbformat_minor": 2
}
